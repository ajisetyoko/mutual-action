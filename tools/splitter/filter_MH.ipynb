{
 "cells": [
  {
   "cell_type": "code",
   "execution_count": null,
   "metadata": {},
   "outputs": [],
   "source": [
    "import numpy as np\n",
    "from IPython.display import clear_output\n",
    "import pickle"
   ]
  },
  {
   "cell_type": "code",
   "execution_count": null,
   "metadata": {},
   "outputs": [],
   "source": [
    "#Data after prepros using gendata \n",
    "file_path1 = 'val_data.npy' \n",
    "file_path2 = 'val_label.pkl'"
   ]
  },
  {
   "cell_type": "code",
   "execution_count": null,
   "metadata": {},
   "outputs": [],
   "source": [
    "dt_ori = np.load(file_path)\n",
    "id_ori,lb_ori = np.load(file_path2,allow_pickle=True)\n",
    "assert dt_ori.shape[0]==len(lb_ori)\n",
    "\n",
    "# mutual_action_id = ((np.arange(0,61))-1).tolist()  # To filter become 60 dataset\n",
    "mutual_action_id = [50,51,52,53,54,55,56,57,58,59,60,106,107,108,109,110,111,112,113,114,115,116,117,118,119,120] # To filter TPIR on 120 dataset\n",
    "mutual_action_id = mutual_action_id - 1\n",
    "list_occ = []\n",
    "for i in range(dt_ori.shape[0]-1,-1,-1):\n",
    "    if lb_ori[i] in mutual_action_id:\n",
    "        continue\n",
    "    else:\n",
    "        list_occ.append(i)\n",
    "        \n",
    "dt_hi = np.delete(dt_ori,list_occ,0)\n",
    "print(dt_hi.shape)\n",
    "id_hi = np.delete(id_ori,list_occ)\n",
    "lb_hi = np.delete(lb_ori,list_occ)\n",
    "print(len(id_hi))\n",
    "assert dt_hi.shape[0]==len(lb_hi)\n",
    "\n",
    "#Check\n",
    "np.unique(lb_hi)"
   ]
  },
  {
   "cell_type": "code",
   "execution_count": null,
   "metadata": {},
   "outputs": [],
   "source": [
    "#Save\n",
    "lb_hi = lb_hi.tolist()\n",
    "id_hi = id_hi.tolist()\n",
    "val_label = (id_hi,lb_hi)\n",
    "np.save('train_mh_data.npy',dt_hi)"
   ]
  },
  {
   "cell_type": "code",
   "execution_count": null,
   "metadata": {},
   "outputs": [],
   "source": [
    "with open('val_mh_label.pkl', 'wb') as f:\n",
    "    pickle.dump((id_hi, list(lb_hi)), f)"
   ]
  }
 ],
 "metadata": {
  "kernelspec": {
   "display_name": "Python 3",
   "language": "python",
   "name": "python3"
  },
  "language_info": {
   "codemirror_mode": {
    "name": "ipython",
    "version": 3
   },
   "file_extension": ".py",
   "mimetype": "text/x-python",
   "name": "python",
   "nbconvert_exporter": "python",
   "pygments_lexer": "ipython3",
   "version": "3.7.3"
  }
 },
 "nbformat": 4,
 "nbformat_minor": 2
}
